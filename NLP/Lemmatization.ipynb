{
 "cells": [
  {
   "cell_type": "markdown",
   "metadata": {},
   "source": [
    "## Lemmatization"
   ]
  },
  {
   "cell_type": "code",
   "execution_count": 1,
   "metadata": {},
   "outputs": [],
   "source": [
    "from nltk.stem import WordNetLemmatizer"
   ]
  },
  {
   "cell_type": "code",
   "execution_count": 9,
   "metadata": {},
   "outputs": [
    {
     "data": {
      "text/plain": [
       "'go'"
      ]
     },
     "execution_count": 9,
     "metadata": {},
     "output_type": "execute_result"
    }
   ],
   "source": [
    "wnl =WordNetLemmatizer()\n",
    "# pos =noun(n), pos=verb(v), pos =adverb(r), adjective(a)\n",
    "wnl.lemmatize(\"going\", pos =\"v\")"
   ]
  },
  {
   "cell_type": "code",
   "execution_count": 11,
   "metadata": {},
   "outputs": [
    {
     "name": "stdout",
     "output_type": "stream",
     "text": [
      "writes write\n",
      "writing write\n",
      "eaten eat\n",
      "eates eat\n",
      "eating eat\n",
      "programming program\n",
      "history history\n"
     ]
    }
   ],
   "source": [
    "words =[\"writes\", \"writing\", \"eaten\", \"eates\", \"eating\", \"programming\", \"history\"]\n",
    "for i in words:\n",
    "    print(i, wnl.lemmatize(i, pos=\"v\"))"
   ]
  },
  {
   "cell_type": "code",
   "execution_count": 12,
   "metadata": {},
   "outputs": [
    {
     "data": {
      "text/plain": [
       "'go'"
      ]
     },
     "execution_count": 12,
     "metadata": {},
     "output_type": "execute_result"
    }
   ],
   "source": [
    "wnl.lemmatize(\"goes\", pos ='v')"
   ]
  },
  {
   "cell_type": "markdown",
   "metadata": {},
   "source": [
    "## Stemming vs Lemmatization\n",
    "- Lemmatization is slow"
   ]
  },
  {
   "cell_type": "code",
   "execution_count": 26,
   "metadata": {},
   "outputs": [
    {
     "name": "stdout",
     "output_type": "stream",
     "text": [
      "write\n",
      "write\n",
      "eaten\n",
      "eat\n",
      "eat\n",
      "program\n",
      "histori\n",
      "0.0\n",
      "write\n",
      "write\n",
      "eat\n",
      "eat\n",
      "eat\n",
      "program\n",
      "history\n",
      "0.00014543533325195312\n"
     ]
    }
   ],
   "source": [
    "from nltk.stem import SnowballStemmer, WordNetLemmatizer\n",
    "import time\n",
    "start =time.time()\n",
    "for i in words:\n",
    "    print(SnowballStemmer(\"english\").stem(i))\n",
    "end =time.time()\n",
    "print(end - start)\n",
    "\n",
    "start =time.time()\n",
    "for i in words:\n",
    "    print(WordNetLemmatizer().lemmatize(i, pos='v'))\n",
    "end =time.time()\n",
    "print(end - start)\n",
    "\n"
   ]
  },
  {
   "cell_type": "code",
   "execution_count": null,
   "metadata": {},
   "outputs": [],
   "source": []
  }
 ],
 "metadata": {
  "kernelspec": {
   "display_name": "Python 3",
   "language": "python",
   "name": "python3"
  },
  "language_info": {
   "codemirror_mode": {
    "name": "ipython",
    "version": 3
   },
   "file_extension": ".py",
   "mimetype": "text/x-python",
   "name": "python",
   "nbconvert_exporter": "python",
   "pygments_lexer": "ipython3",
   "version": "3.12.7"
  }
 },
 "nbformat": 4,
 "nbformat_minor": 2
}
