{
 "cells": [
  {
   "cell_type": "markdown",
   "metadata": {},
   "source": [
    "## POS Tagging"
   ]
  },
  {
   "cell_type": "code",
   "execution_count": 2,
   "metadata": {},
   "outputs": [],
   "source": [
    "from nltk.tokenize import sent_tokenize\n",
    "from nltk.corpus import stopwords\n",
    "from nltk import pos_tag"
   ]
  },
  {
   "cell_type": "code",
   "execution_count": 4,
   "metadata": {},
   "outputs": [],
   "source": [
    "corpus ='''Generative AI is revolutionizing the way we create and interact with content across various domains. By leveraging advanced algorithms and neural networks, it can produce anything from realistic images and videos to compelling text and music. This technology empowers artists, marketers, and developers to push creative boundaries, enabling them to generate unique designs or automate content creation. As generative AI continues to evolve, it raises intriguing questions about authorship, originality, and the ethical implications of machine-generated content, prompting discussions on how society will adapt to this new wave of innovation. The potential applications are vast, ranging from personalized learning experiences to virtual assistants that can engage in natural conversations, shaping the future of human-computer interaction'''"
   ]
  },
  {
   "cell_type": "code",
   "execution_count": 5,
   "metadata": {},
   "outputs": [
    {
     "data": {
      "text/plain": [
       "['Generative AI is revolutionizing the way we create and interact with content across various domains.',\n",
       " 'By leveraging advanced algorithms and neural networks, it can produce anything from realistic images and videos to compelling text and music.',\n",
       " 'This technology empowers artists, marketers, and developers to push creative boundaries, enabling them to generate unique designs or automate content creation.',\n",
       " 'As generative AI continues to evolve, it raises intriguing questions about authorship, originality, and the ethical implications of machine-generated content, prompting discussions on how society will adapt to this new wave of innovation.',\n",
       " 'The potential applications are vast, ranging from personalized learning experiences to virtual assistants that can engage in natural conversations, shaping the future of human-computer interaction']"
      ]
     },
     "execution_count": 5,
     "metadata": {},
     "output_type": "execute_result"
    }
   ],
   "source": [
    "sentences =sent_tokenize(corpus)\n",
    "sentences"
   ]
  },
  {
   "cell_type": "code",
   "execution_count": 9,
   "metadata": {},
   "outputs": [
    {
     "name": "stdout",
     "output_type": "stream",
     "text": [
      "[('Generative', 'JJ'), ('AI', 'NNP'), ('revolutionizing', 'VBG'), ('way', 'NN'), ('create', 'JJ'), ('interact', 'JJ'), ('content', 'JJ'), ('across', 'IN'), ('various', 'JJ'), ('domains.', 'NN')]\n",
      "[('By', 'IN'), ('leveraging', 'VBG'), ('advanced', 'JJ'), ('algorithms', 'JJ'), ('neural', 'JJ'), ('networks,', 'NN'), ('produce', 'VBP'), ('anything', 'NN'), ('realistic', 'JJ'), ('images', 'NNS'), ('videos', 'VBP'), ('compelling', 'VBG'), ('text', 'NN'), ('music.', 'NN')]\n",
      "[('This', 'DT'), ('technology', 'NN'), ('empowers', 'VBZ'), ('artists,', 'JJ'), ('marketers,', 'NN'), ('developers', 'NNS'), ('push', 'VBP'), ('creative', 'JJ'), ('boundaries,', 'NN'), ('enabling', 'VBG'), ('generate', 'NN'), ('unique', 'JJ'), ('designs', 'NNS'), ('automate', 'VBP'), ('content', 'JJ'), ('creation.', 'NN')]\n",
      "[('As', 'IN'), ('generative', 'JJ'), ('AI', 'NNP'), ('continues', 'VBZ'), ('evolve,', 'VBP'), ('raises', 'NNS'), ('intriguing', 'VBG'), ('questions', 'NNS'), ('authorship,', 'VBP'), ('originality,', 'JJ'), ('ethical', 'JJ'), ('implications', 'NNS'), ('machine-generated', 'JJ'), ('content,', 'NN'), ('prompting', 'VBG'), ('discussions', 'NNS'), ('society', 'NN'), ('adapt', 'VBP'), ('new', 'JJ'), ('wave', 'NN'), ('innovation.', 'NN')]\n",
      "[('The', 'DT'), ('potential', 'JJ'), ('applications', 'NNS'), ('vast,', 'VBP'), ('ranging', 'VBG'), ('personalized', 'VBN'), ('learning', 'NN'), ('experiences', 'NNS'), ('virtual', 'JJ'), ('assistants', 'NNS'), ('engage', 'VB'), ('natural', 'JJ'), ('conversations,', 'NN'), ('shaping', 'VBG'), ('future', 'JJ'), ('human-computer', 'JJ'), ('interaction', 'NN')]\n"
     ]
    }
   ],
   "source": [
    "for i in sentences:\n",
    "    words =[j for j in i.split(\" \") if j not in stopwords.words(\"english\")]\n",
    "    print(pos_tag(words))\n"
   ]
  },
  {
   "cell_type": "code",
   "execution_count": null,
   "metadata": {},
   "outputs": [],
   "source": []
  }
 ],
 "metadata": {
  "kernelspec": {
   "display_name": "Python 3",
   "language": "python",
   "name": "python3"
  },
  "language_info": {
   "codemirror_mode": {
    "name": "ipython",
    "version": 3
   },
   "file_extension": ".py",
   "mimetype": "text/x-python",
   "name": "python",
   "nbconvert_exporter": "python",
   "pygments_lexer": "ipython3",
   "version": "3.12.7"
  }
 },
 "nbformat": 4,
 "nbformat_minor": 2
}
